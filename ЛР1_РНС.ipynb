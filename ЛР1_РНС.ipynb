{
  "nbformat": 4,
  "nbformat_minor": 0,
  "metadata": {
    "colab": {
      "provenance": [],
      "authorship_tag": "ABX9TyNXBF4QvcX9UazpW2Aderin",
      "include_colab_link": true
    },
    "kernelspec": {
      "name": "python3",
      "display_name": "Python 3"
    },
    "language_info": {
      "name": "python"
    }
  },
  "cells": [
    {
      "cell_type": "markdown",
      "metadata": {
        "id": "view-in-github",
        "colab_type": "text"
      },
      "source": [
        "<a href=\"https://colab.research.google.com/github/elkhimova-irina/Deep_learning/blob/main/%D0%9B%D0%A01_%D0%A0%D0%9D%D0%A1.ipynb\" target=\"_parent\"><img src=\"https://colab.research.google.com/assets/colab-badge.svg\" alt=\"Open In Colab\"/></a>"
      ]
    },
    {
      "cell_type": "markdown",
      "source": [
        "# **Лабораторная работа №1**"
      ],
      "metadata": {
        "id": "zyl7d_3HRuKy"
      }
    },
    {
      "cell_type": "markdown",
      "source": [
        "**1. Регрессия по теореме универсальной аппроксимации, ручное дифференцирование**"
      ],
      "metadata": {
        "id": "J-JuU2NGSBr7"
      }
    },
    {
      "cell_type": "code",
      "source": [
        "\n",
        "import numpy as np\n",
        "import torch\n",
        "import torch.optim as optim\n",
        "import torch.nn as nn\n",
        "import torch.nn.functional as F\n",
        "from torch.utils.data import TensorDataset, DataLoader\n",
        "import pickle\n",
        "from sklearn.metrics import classification_report\n",
        "from sklearn.datasets import make_circles, make_moons\n",
        "from PIL import Image\n",
        "import matplotlib.pyplot as plt\n",
        "%matplotlib inline\n",
        "     "
      ],
      "metadata": {
        "id": "Kdxk0NPSSK2g"
      },
      "execution_count": null,
      "outputs": []
    },
    {
      "cell_type": "markdown",
      "source": [
        "Генерация выборки и инициализация параметров нейронной сети"
      ],
      "metadata": {
        "id": "8-YhaDbhSXSU"
      }
    },
    {
      "cell_type": "code",
      "source": [
        "\n",
        "X = (np.arange(100)/100 - 0.5).repeat(5)\n",
        "\n",
        "y = 1/(1+np.exp(-10*X))\n",
        "yn = np.random.normal(scale=0.05, size=y.size)+y\n",
        "\n",
        "plt.plot(X, yn)\n",
        "plt.plot(X, y, linestyle='--', c='k')\n",
        "################################################\n",
        "tensor_X = torch.Tensor(X.reshape(-1, 1))\n",
        "tensor_y = torch.Tensor(yn.reshape(-1, 1))\n",
        "\n",
        "HIDDEN_SIZE = 64\n",
        "# Инициализация весов MLP с одним скрытым слоём\n",
        "weights_1 = (torch.rand(1, HIDDEN_SIZE)-.5)/10\n",
        "bias_1 = torch.zeros(HIDDEN_SIZE)\n",
        "\n",
        "weights_2 = (torch.rand(HIDDEN_SIZE, 1)-.5)/10\n",
        "bias_2 = torch.zeros(1)\n",
        "     "
      ],
      "metadata": {
        "colab": {
          "base_uri": "https://localhost:8080/",
          "height": 265
        },
        "id": "zD51mHdZSajk",
        "outputId": "2c1f2db6-b414-4afd-8cf0-2f6523a05aaa"
      },
      "execution_count": null,
      "outputs": [
        {
          "output_type": "display_data",
          "data": {
            "text/plain": [
              "<Figure size 432x288 with 1 Axes>"
            ],
            "image/png": "[encoded data removed]"
          },
          "metadata": {
            "needs_background": "light"
          }
        }
      ]
    },
    {
      "cell_type": "markdown",
      "source": [
        "Обучение нейронной сети задачи регрессии"
      ],
      "metadata": {
        "id": "6nYm60HzSj8-"
      }
    },
    {
      "cell_type": "code",
      "source": [
        "# Определяем функцию нелинейности\n",
        "relu = lambda x: torch.maximum(x, torch.Tensor([0]))\n",
        "# Прямой проход\n",
        "forward = lambda x: (weights_2.t()*relu((weights_1*x) + bias_1)\n",
        "                      ).sum(axis=-1,keepdims=True) + bias_2\n",
        "loss = lambda y, y_: ((y-y_)**2).sum(axis=-1)\n",
        "\n",
        "# # обратный проход\n",
        "def backward(X, y, y_pred):\n",
        "    # производная функции потерь по y_pred\n",
        "    dL = 2*(y_pred-y)\n",
        "    # значения нейронов скрытого слоя до применения активации\n",
        "    Ax = (weights_1*X) + bias_1\n",
        "    # значения нейронов скрытого слоя после применения активации\n",
        "    A = relu(Ax)\n",
        "    # производная функции потерь по weight_2\n",
        "    dW2 = torch.mm(A.t(), dL)\n",
        "    # производная функции потерь по bias_2\n",
        "    db2 = dL.sum(axis=0)\n",
        "    # производная функции потерь по значениям скрытого слоя после активации\n",
        "    dA = torch.mm(dL, weights_2.t())\n",
        "    # производная функции потерь по значениям скрытого слоя до активации\n",
        "    dA[Ax<=0] = 0\n",
        "    # производная функции потерь по weight_1\n",
        "    dW = torch.mm(X.t(), dA)\n",
        "    # производная функции потерь по bias_1\n",
        "    db = dA.sum(axis=0)\n",
        "    #print(dW.shape, db.shape, dW2.shape, db2.shape)\n",
        "    return dW, db, dW2, db2\n",
        "\n",
        "def optimize(params, grads, lr=0.001):\n",
        "    # градиентный спуск по всей обучающей выборке\n",
        "    W1, b1, W2, b2 = params\n",
        "    W1 -= lr*grads[0]\n",
        "    W2 -= lr*grads[2]\n",
        "    b1 -= lr*grads[1]\n",
        "    b2 -= lr*grads[3]\n",
        "    return W1, b1, W2, b2\n",
        "\n",
        "for i in range(50000): # 50 тысяч итераций градиентного спуска == 50 тысяч эпох\n",
        "  output = forward(tensor_X)\n",
        "  cur_loss = loss(output, tensor_y)\n",
        "  grads = backward(tensor_X, tensor_y, output)\n",
        "  params = [weights_1, bias_1, weights_2, bias_2]\n",
        "  weights_1, bias_1, weights_2, bias_2 = optimize(params, grads, 1e-4)\n",
        "  if (i+1)%10000 == 0:\n",
        "      plt.plot(X, output.numpy(), label=str(i+1), alpha=0.5)\n",
        "plt.plot(X, y, linestyle='--', c='k', label='real')\n",
        "plt.legend()\n",
        "plt.ylim(y.min(), y.max())\n",
        "print(cur_loss.numpy().mean())"
      ],
      "metadata": {
        "colab": {
          "base_uri": "https://localhost:8080/",
          "height": 282
        },
        "id": "SEZ4kiSCSlw9",
        "outputId": "faa74142-07f4-4a05-8499-cbd64e98e614"
      },
      "execution_count": null,
      "outputs": [
        {
          "output_type": "stream",
          "name": "stdout",
          "text": [
            "0.0023063314\n"
          ]
        },
        {
          "output_type": "display_data",
          "data": {
            "text/plain": [
              "<Figure size 432x288 with 1 Axes>"
            ],
            "image/png": "[encoded data removed]"
          },
          "metadata": {
            "needs_background": "light"
          }
        }
      ]
    },
    {
      "cell_type": "markdown",
      "source": [
        "**2. Бинарная классификация с помощью автодиффиренцирования PyTorch**"
      ],
      "metadata": {
        "id": "ogEDJJFeS16r"
      }
    },
    {
      "cell_type": "markdown",
      "source": [
        "Генерация выборки и инициализация параметров нейронной сети"
      ],
      "metadata": {
        "id": "Au2uRYuhS5zZ"
      }
    },
    {
      "cell_type": "code",
      "source": [
        "X = np.random.randint(2, size=(1000, 2))\n",
        "\n",
        "y = (X[:, 0] + X[:, 1]) % 2 # XOR\n",
        "X = X + np.random.normal(0, scale=0.1, size=X.shape)\n",
        "#X, y = make_circles(n_samples=1000, noise=0.025)\n",
        "#X, y = make_moons(n_samples=1000, noise=0.025)\n",
        "plt.scatter(X[:, 0], X[:, 1], c=y)\n",
        "####################################################\n",
        "tensor_X = torch.Tensor(X.reshape(-1, 2))\n",
        "tensor_y = torch.Tensor(y.reshape(-1, 1))\n",
        "\n",
        "HIDDEN_SIZE = 16\n",
        "# Инициализация весов MLP с одним скрытым слоём\n",
        "weights_1 = ((torch.rand(2, HIDDEN_SIZE)-.5)/10).detach().requires_grad_(True)\n",
        "bias_1 = torch.zeros(HIDDEN_SIZE, requires_grad=True)\n",
        "\n",
        "weights_2 = ((torch.rand(HIDDEN_SIZE, 1)-.5)/10).detach().requires_grad_(True)\n",
        "bias_2 = torch.zeros(1, requires_grad=True)"
      ],
      "metadata": {
        "colab": {
          "base_uri": "https://localhost:8080/",
          "height": 265
        },
        "id": "WD5cFCCbS7zX",
        "outputId": "24c7e7da-ae1b-4e9a-e907-3304c2007020"
      },
      "execution_count": null,
      "outputs": [
        {
          "output_type": "display_data",
          "data": {
            "text/plain": [
              "<Figure size 432x288 with 1 Axes>"
            ],
            "image/png": "[encoded data removed]"
          },
          "metadata": {
            "needs_background": "light"
          }
        }
      ]
    },
    {
      "cell_type": "markdown",
      "source": [
        "Обучение нейронной сети задачи классификации"
      ],
      "metadata": {
        "id": "nlDcqsFXTB72"
      }
    },
    {
      "cell_type": "code",
      "source": [
        "# Определяем функцию нелинейности\n",
        "def sigmoid(x):\n",
        "    return 1/(1+torch.exp(-x))\n",
        "\n",
        "# Прямой проход\n",
        "def forward(x):\n",
        "    hidden = torch.mm(x, weights_1) + bias_1\n",
        "    hidden_nonlin = sigmoid(hidden)\n",
        "    output = (weights_2.t()*hidden_nonlin).sum(axis=-1,keepdims=True) + bias_2\n",
        "    return sigmoid(output)\n",
        "                       \n",
        "# Logloss\n",
        "def loss(y_true, y_pred):\n",
        "    return -1*(y_true*torch.log(y_pred)+(1-y_true)*torch.log(1-y_pred)).sum()\n",
        "\n",
        "# задаём шаг обучения\n",
        "lr = 1e-3\n",
        "# задаём число итераций\n",
        "iters = 10000\n",
        "params = [weights_1, bias_1, weights_2, bias_2]\n",
        "losses = []\n",
        "for i in range(iters):\n",
        "    output = forward(tensor_X)\n",
        "    lossval = loss(tensor_y, output)\n",
        "    lossval.backward() # тут включается в работу autograd\n",
        "    for w in params:\n",
        "        with torch.no_grad():\n",
        "            w -= w.grad*lr # обновляем веса\n",
        "        w.grad.zero_() # зануляем градиенты, чтобы не накапливались за итерации\n",
        "    losses.append(lossval.item())\n",
        "# выводим историю функции потерь по итерациям\n",
        "plt.plot(losses)"
      ],
      "metadata": {
        "colab": {
          "base_uri": "https://localhost:8080/",
          "height": 282
        },
        "id": "mJU8rzB-TCoG",
        "outputId": "2d96635d-b558-468f-b3d1-bda10afc991f"
      },
      "execution_count": null,
      "outputs": [
        {
          "output_type": "execute_result",
          "data": {
            "text/plain": [
              "[<matplotlib.lines.Line2D at 0x7fccba306fd0>]"
            ]
          },
          "metadata": {},
          "execution_count": 266
        },
        {
          "output_type": "display_data",
          "data": {
            "text/plain": [
              "<Figure size 432x288 with 1 Axes>"
            ],
            "image/png": "[encoded data removed]"
          },
          "metadata": {
            "needs_background": "light"
          }
        }
      ]
    },
    {
      "cell_type": "markdown",
      "source": [
        "Проверка результатов обучения"
      ],
      "metadata": {
        "id": "q427_IgvTHr-"
      }
    },
    {
      "cell_type": "code",
      "source": [
        "\n",
        "X_diff = X.max() - X.min()\n",
        "X_left = X.min() - 0.1*X_diff\n",
        "X_right = X.max() + 0.1*X_diff\n",
        "grid = np.arange(X_left, X_right, 0.01)\n",
        "grid_width = grid.size\n",
        "surface = []\n",
        "# создаем точки по сетке\n",
        "for x1 in grid:\n",
        "    for x2 in grid:\n",
        "        surface.append((x1, x2))\n",
        "surface = np.array(surface)\n",
        "# получаем предсказания для всех точек\n",
        "with torch.no_grad():\n",
        "    Z = forward(torch.Tensor(surface)).detach().numpy()\n",
        "# меняем форму в виде двухмерного массива\n",
        "Z = Z.reshape(grid_width, grid_width)\n",
        "xx = surface[:, 0].reshape(grid_width, grid_width)\n",
        "yy = surface[:, 1].reshape(grid_width, grid_width)\n",
        "# рисуем разделяющие поверхности классов\n",
        "plt.contourf(xx, yy, Z, alpha=0.5)\n",
        "# рисуем обучающую выборку\n",
        "plt.scatter(X[:, 0], X[:, 1], c=output.detach().numpy()>0.5)\n",
        "# задаём границы отображения графика\n",
        "plt.xlim(X_left, X_right)\n",
        "plt.ylim(X_left, X_right)"
      ],
      "metadata": {
        "colab": {
          "base_uri": "https://localhost:8080/",
          "height": 283
        },
        "id": "5D13dROfTIXi",
        "outputId": "6a49db4a-472f-460c-eba4-4ab237d2477b"
      },
      "execution_count": null,
      "outputs": [
        {
          "output_type": "execute_result",
          "data": {
            "text/plain": [
              "(-0.4237834599701183, 1.5268219381614165)"
            ]
          },
          "metadata": {},
          "execution_count": 267
        },
        {
          "output_type": "display_data",
          "data": {
            "text/plain": [
              "<Figure size 432x288 with 1 Axes>"
            ],
            "image/png": "[encoded data removed]"
          },
          "metadata": {
            "needs_background": "light"
          }
        }
      ]
    },
    {
      "cell_type": "markdown",
      "source": [
        "**3. Обучить полносвязную нейронную сеть классификации 3 классов изображений из набора данных CIFAR100 по варианту с точностью на тестовой выборке не менее 70%.**"
      ],
      "metadata": {
        "id": "u9hT_h611MOs"
      }
    },
    {
      "cell_type": "markdown",
      "source": [
        "Классы из CIFAR100:\n",
        "\n",
        "- Номер группы + 4 = 26\n",
        "- Номер варианта + 17 = 19\n",
        "- Номер варианта + 42 = 44"
      ],
      "metadata": {
        "id": "4MkEe9Fb1Vaw"
      }
    },
    {
      "cell_type": "markdown",
      "source": [
        "Загрузка и распаковка CIFAR100"
      ],
      "metadata": {
        "id": "J3plh7Wx1psh"
      }
    },
    {
      "cell_type": "code",
      "source": [
        "!wget https://www.cs.toronto.edu/~kriz/cifar-100-python.tar.gz\n",
        "!tar -xvzf cifar-100-python.tar.gz"
      ],
      "metadata": {
        "colab": {
          "base_uri": "https://localhost:8080/"
        },
        "id": "ch_4zh7r1s9m",
        "outputId": "ce188269-7077-44aa-d068-d81fe4046e10"
      },
      "execution_count": null,
      "outputs": [
        {
          "output_type": "stream",
          "name": "stdout",
          "text": [
            "--2023-02-15 13:25:24--  https://www.cs.toronto.edu/~kriz/cifar-100-python.tar.gz\n",
            "Resolving www.cs.toronto.edu (www.cs.toronto.edu)... 128.100.3.30\n",
            "Connecting to www.cs.toronto.edu (www.cs.toronto.edu)|128.100.3.30|:443... connected.\n",
            "HTTP request sent, awaiting response... 200 OK\n",
            "Length: 169001437 (161M) [application/x-gzip]\n",
            "Saving to: ‘cifar-100-python.tar.gz.9’\n",
            "\n",
            "cifar-100-python.ta 100%[===================>] 161.17M  70.3MB/s    in 2.3s    \n",
            "\n",
            "2023-02-15 13:25:28 (70.3 MB/s) - ‘cifar-100-python.tar.gz.9’ saved [169001437/169001437]\n",
            "\n",
            "cifar-100-python/\n",
            "cifar-100-python/file.txt~\n",
            "cifar-100-python/train\n",
            "cifar-100-python/test\n",
            "cifar-100-python/meta\n"
          ]
        }
      ]
    },
    {
      "cell_type": "markdown",
      "source": [
        "Чтение тренировочной и тестовой выборки"
      ],
      "metadata": {
        "id": "-guwIE6i12C1"
      }
    },
    {
      "cell_type": "code",
      "source": [
        "with open('cifar-100-python/train', 'rb') as f:\n",
        "    data_train = pickle.load(f, encoding='latin1')\n",
        "with open('cifar-100-python/test', 'rb') as f:\n",
        "    data_test = pickle.load(f, encoding='latin1')\n",
        "\n",
        "CLASSES = [5, 18, 43]\n",
        "\n",
        "train_X = data_train['data'].reshape(-1, 3, 32, 32)\n",
        "train_X = np.transpose(train_X, [0, 2, 3, 1]) # NCHW -> NHWC\n",
        "train_y = np.array(data_train['fine_labels'])\n",
        "mask = np.isin(train_y, CLASSES)\n",
        "train_X = train_X[mask].copy()\n",
        "train_y = train_y[mask].copy()\n",
        "train_y = np.unique(train_y, return_inverse=1)[1]\n",
        "del data_train\n",
        "\n",
        "test_X = data_test['data'].reshape(-1, 3, 32, 32)\n",
        "test_X = np.transpose(test_X, [0, 2, 3, 1])\n",
        "test_y = np.array(data_test['fine_labels'])\n",
        "mask = np.isin(test_y, CLASSES)\n",
        "test_X = test_X[mask].copy()\n",
        "test_y = test_y[mask].copy()\n",
        "test_y = np.unique(test_y, return_inverse=1)[1]\n",
        "del data_test\n",
        "Image.fromarray(train_X[50]).resize((256,256))"
      ],
      "metadata": {
        "id": "LFKxRgqQ15HV",
        "colab": {
          "base_uri": "https://localhost:8080/",
          "height": 273
        },
        "outputId": "f9e2f34c-826a-4cdb-a4b3-76c3e5949494"
      },
      "execution_count": null,
      "outputs": [
        {
          "output_type": "execute_result",
          "data": {
            "text/plain": [
              "<PIL.Image.Image image mode=RGB size=256x256 at 0x7FCD68670AF0>"
            ],
            "image/png": "[encoded data removed]"
          },
          "metadata": {},
          "execution_count": 400
        }
      ]
    },
    {
      "cell_type": "markdown",
      "source": [
        "Создание Pytorch DataLoader'a"
      ],
      "metadata": {
        "id": "iaQxwuhk2riV"
      }
    },
    {
      "cell_type": "code",
      "source": [
        "batch_size = 128\n",
        "dataloader = {}\n",
        "for (X, y), part in zip([(train_X, train_y), (test_X, test_y)],\n",
        "                        ['train', 'test']):\n",
        "    tensor_x = torch.Tensor(X)\n",
        "    tensor_y = F.one_hot(torch.Tensor(y).to(torch.int64),\n",
        "                                     num_classes=len(CLASSES))/1.\n",
        "    dataset = TensorDataset(tensor_x, tensor_y) # создание объекта датасета\n",
        "    dataloader[part] = DataLoader(dataset, batch_size=batch_size, shuffle=True) # создание экземпляра класса DataLoader\n",
        "dataloader"
      ],
      "metadata": {
        "id": "pThCwMqL2sif",
        "colab": {
          "base_uri": "https://localhost:8080/"
        },
        "outputId": "983d2e32-727c-4c6c-8b10-e255deff820a"
      },
      "execution_count": null,
      "outputs": [
        {
          "output_type": "execute_result",
          "data": {
            "text/plain": [
              "{'train': <torch.utils.data.dataloader.DataLoader at 0x7fccba9c77c0>,\n",
              " 'test': <torch.utils.data.dataloader.DataLoader at 0x7fccba5d6df0>}"
            ]
          },
          "metadata": {},
          "execution_count": 401
        }
      ]
    },
    {
      "cell_type": "markdown",
      "source": [
        "Создание Pytorch модели многослойного перцептрона с одним скрытым слоем"
      ],
      "metadata": {
        "id": "qgYAnghE2zOS"
      }
    },
    {
      "cell_type": "code",
      "source": [
        "\n",
        "class Normalize(nn.Module):\n",
        "    def __init__(self, mean, std):\n",
        "        super(Normalize, self).__init__()\n",
        "        self.mean = torch.tensor(mean)\n",
        "        self.std = torch.tensor(std)\n",
        "\n",
        "    def forward(self, input):\n",
        "        x = input / 255.0\n",
        "        x = x - self.mean\n",
        "        x = x / self.std\n",
        "        return torch.flatten(x, start_dim=1) # nhwc -> nm\n",
        "\n",
        "class Cifar100_MLP(nn.Module):\n",
        "    def __init__(self, hidden_size=32, classes=100):\n",
        "        super(Cifar100_MLP, self).__init__()\n",
        "        # https://blog.jovian.ai/image-classification-of-cifar100-dataset-using-pytorch-8b7145242df1\n",
        "        self.norm = Normalize([0.5074,0.4867,0.4411],[0.2011,0.1987,0.2025])\n",
        "        self.seq = nn.Sequential(\n",
        "            nn.Linear(32*32*3, hidden_size),\n",
        "            nn.ReLU(),\n",
        "            nn.Linear(hidden_size, hidden_size),\n",
        "            nn.ReLU(),\n",
        "            nn.Linear(hidden_size, classes),\n",
        "        )\n",
        "\n",
        "    def forward(self, input):\n",
        "        x = self.norm(input)\n",
        "        return self.seq(x)\n",
        "\n",
        "HIDDEN_SIZE = 64\n",
        "model = Cifar100_MLP(hidden_size=HIDDEN_SIZE, classes=len(CLASSES))\n",
        "model"
      ],
      "metadata": {
        "id": "YgoWaGfM2z6E",
        "colab": {
          "base_uri": "https://localhost:8080/"
        },
        "outputId": "70dc9e6c-1c8f-49e7-9855-b0e9fe2dac69"
      },
      "execution_count": null,
      "outputs": [
        {
          "output_type": "execute_result",
          "data": {
            "text/plain": [
              "Cifar100_MLP(\n",
              "  (norm): Normalize()\n",
              "  (seq): Sequential(\n",
              "    (0): Linear(in_features=3072, out_features=64, bias=True)\n",
              "    (1): ReLU()\n",
              "    (2): Linear(in_features=64, out_features=64, bias=True)\n",
              "    (3): ReLU()\n",
              "    (4): Linear(in_features=64, out_features=3, bias=True)\n",
              "  )\n",
              ")"
            ]
          },
          "metadata": {},
          "execution_count": 402
        }
      ]
    },
    {
      "cell_type": "markdown",
      "source": [
        "Выбор функции потерь и оптимизатора градиентного спуска"
      ],
      "metadata": {
        "id": "OvKwJje228HS"
      }
    },
    {
      "cell_type": "code",
      "source": [
        "criterion = nn.CrossEntropyLoss()\n",
        "optimizer = optim.SGD(model.parameters(), lr=0.005)"
      ],
      "metadata": {
        "id": "vjOcsmcA29rG"
      },
      "execution_count": null,
      "outputs": []
    },
    {
      "cell_type": "markdown",
      "source": [
        "Обучение модели по эпохам"
      ],
      "metadata": {
        "id": "gLRANciq3Cq9"
      }
    },
    {
      "cell_type": "code",
      "source": [
        "EPOCHS = 250\n",
        "steps_per_epoch = len(dataloader['train'])\n",
        "steps_per_epoch_val = len(dataloader['test'])\n",
        "for epoch in range(EPOCHS):  # проход по набору данных несколько раз\n",
        "    running_loss = 0.0\n",
        "    model.train()\n",
        "    for i, batch in enumerate(dataloader['train'], 0):\n",
        "        # получение одного минибатча; batch это двуэлементный список из [inputs, labels]\n",
        "        inputs, labels = batch\n",
        "\n",
        "        # очищение прошлых градиентов с прошлой итерации\n",
        "        optimizer.zero_grad()\n",
        "\n",
        "        # прямой + обратный проходы + оптимизация\n",
        "        outputs = model(inputs)\n",
        "        loss = criterion(outputs, labels)\n",
        "        #loss = F.cross_entropy(outputs, labels)\n",
        "        loss.backward()\n",
        "        optimizer.step()\n",
        "\n",
        "        # для подсчёта статистик\n",
        "        running_loss += loss.item()\n",
        "    print(f'[{epoch + 1}, {i + 1:5d}] loss: {running_loss / steps_per_epoch:.3f}')\n",
        "    running_loss = 0.0\n",
        "    model.eval()\n",
        "    with torch.no_grad(): # отключение автоматического дифференцирования\n",
        "        for i, data in enumerate(dataloader['test'], 0):\n",
        "            inputs, labels = data\n",
        "\n",
        "            outputs = model(inputs)\n",
        "            loss = criterion(outputs, labels)\n",
        "            running_loss += loss.item()\n",
        "    print(f'[{epoch + 1}, {i + 1:5d}] val loss: {running_loss / steps_per_epoch_val:.3f}')\n",
        "print('Обучение закончено')"
      ],
      "metadata": {
        "id": "S_kpnW_m3DWn",
        "colab": {
          "base_uri": "https://localhost:8080/"
        },
        "outputId": "eea2af66-010f-4d1c-d32c-4069133b275b"
      },
      "execution_count": null,
      "outputs": [
        {
          "output_type": "stream",
          "name": "stdout",
          "text": [
            "[1,    12] loss: 1.094\n",
            "[1,     3] val loss: 1.071\n",
            "[2,    12] loss: 1.063\n",
            "[2,     3] val loss: 1.050\n",
            "[3,    12] loss: 1.037\n",
            "[3,     3] val loss: 1.028\n",
            "[4,    12] loss: 1.015\n",
            "[4,     3] val loss: 0.991\n",
            "[5,    12] loss: 0.993\n",
            "[5,     3] val loss: 0.967\n",
            "[6,    12] loss: 0.971\n",
            "[6,     3] val loss: 0.948\n",
            "[7,    12] loss: 0.948\n",
            "[7,     3] val loss: 0.923\n",
            "[8,    12] loss: 0.927\n",
            "[8,     3] val loss: 0.900\n",
            "[9,    12] loss: 0.906\n",
            "[9,     3] val loss: 0.867\n",
            "[10,    12] loss: 0.887\n",
            "[10,     3] val loss: 0.850\n",
            "[11,    12] loss: 0.865\n",
            "[11,     3] val loss: 0.824\n",
            "[12,    12] loss: 0.845\n",
            "[12,     3] val loss: 0.821\n",
            "[13,    12] loss: 0.826\n",
            "[13,     3] val loss: 0.805\n",
            "[14,    12] loss: 0.807\n",
            "[14,     3] val loss: 0.802\n",
            "[15,    12] loss: 0.787\n",
            "[15,     3] val loss: 0.770\n",
            "[16,    12] loss: 0.770\n",
            "[16,     3] val loss: 0.754\n",
            "[17,    12] loss: 0.754\n",
            "[17,     3] val loss: 0.733\n",
            "[18,    12] loss: 0.736\n",
            "[18,     3] val loss: 0.729\n",
            "[19,    12] loss: 0.721\n",
            "[19,     3] val loss: 0.716\n",
            "[20,    12] loss: 0.706\n",
            "[20,     3] val loss: 0.693\n",
            "[21,    12] loss: 0.689\n",
            "[21,     3] val loss: 0.734\n",
            "[22,    12] loss: 0.675\n",
            "[22,     3] val loss: 0.713\n",
            "[23,    12] loss: 0.665\n",
            "[23,     3] val loss: 0.721\n",
            "[24,    12] loss: 0.650\n",
            "[24,     3] val loss: 0.664\n",
            "[25,    12] loss: 0.638\n",
            "[25,     3] val loss: 0.681\n",
            "[26,    12] loss: 0.629\n",
            "[26,     3] val loss: 0.650\n",
            "[27,    12] loss: 0.614\n",
            "[27,     3] val loss: 0.635\n",
            "[28,    12] loss: 0.604\n",
            "[28,     3] val loss: 0.646\n",
            "[29,    12] loss: 0.596\n",
            "[29,     3] val loss: 0.647\n",
            "[30,    12] loss: 0.587\n",
            "[30,     3] val loss: 0.619\n",
            "[31,    12] loss: 0.577\n",
            "[31,     3] val loss: 0.637\n",
            "[32,    12] loss: 0.568\n",
            "[32,     3] val loss: 0.630\n",
            "[33,    12] loss: 0.559\n",
            "[33,     3] val loss: 0.642\n",
            "[34,    12] loss: 0.553\n",
            "[34,     3] val loss: 0.575\n",
            "[35,    12] loss: 0.545\n",
            "[35,     3] val loss: 0.619\n",
            "[36,    12] loss: 0.538\n",
            "[36,     3] val loss: 0.595\n",
            "[37,    12] loss: 0.529\n",
            "[37,     3] val loss: 0.582\n",
            "[38,    12] loss: 0.519\n",
            "[38,     3] val loss: 0.590\n",
            "[39,    12] loss: 0.514\n",
            "[39,     3] val loss: 0.612\n",
            "[40,    12] loss: 0.507\n",
            "[40,     3] val loss: 0.591\n",
            "[41,    12] loss: 0.500\n",
            "[41,     3] val loss: 0.582\n",
            "[42,    12] loss: 0.495\n",
            "[42,     3] val loss: 0.587\n",
            "[43,    12] loss: 0.488\n",
            "[43,     3] val loss: 0.572\n",
            "[44,    12] loss: 0.482\n",
            "[44,     3] val loss: 0.600\n",
            "[45,    12] loss: 0.475\n",
            "[45,     3] val loss: 0.575\n",
            "[46,    12] loss: 0.470\n",
            "[46,     3] val loss: 0.602\n",
            "[47,    12] loss: 0.461\n",
            "[47,     3] val loss: 0.583\n",
            "[48,    12] loss: 0.458\n",
            "[48,     3] val loss: 0.562\n",
            "[49,    12] loss: 0.452\n",
            "[49,     3] val loss: 0.579\n",
            "[50,    12] loss: 0.444\n",
            "[50,     3] val loss: 0.525\n",
            "[51,    12] loss: 0.440\n",
            "[51,     3] val loss: 0.603\n",
            "[52,    12] loss: 0.436\n",
            "[52,     3] val loss: 0.557\n",
            "[53,    12] loss: 0.432\n",
            "[53,     3] val loss: 0.565\n",
            "[54,    12] loss: 0.425\n",
            "[54,     3] val loss: 0.519\n",
            "[55,    12] loss: 0.421\n",
            "[55,     3] val loss: 0.555\n",
            "[56,    12] loss: 0.416\n",
            "[56,     3] val loss: 0.545\n",
            "[57,    12] loss: 0.409\n",
            "[57,     3] val loss: 0.553\n",
            "[58,    12] loss: 0.406\n",
            "[58,     3] val loss: 0.522\n",
            "[59,    12] loss: 0.401\n",
            "[59,     3] val loss: 0.571\n",
            "[60,    12] loss: 0.397\n",
            "[60,     3] val loss: 0.569\n",
            "[61,    12] loss: 0.392\n",
            "[61,     3] val loss: 0.522\n",
            "[62,    12] loss: 0.388\n",
            "[62,     3] val loss: 0.514\n",
            "[63,    12] loss: 0.384\n",
            "[63,     3] val loss: 0.517\n",
            "[64,    12] loss: 0.377\n",
            "[64,     3] val loss: 0.553\n",
            "[65,    12] loss: 0.373\n",
            "[65,     3] val loss: 0.545\n",
            "[66,    12] loss: 0.372\n",
            "[66,     3] val loss: 0.580\n",
            "[67,    12] loss: 0.365\n",
            "[67,     3] val loss: 0.556\n",
            "[68,    12] loss: 0.358\n",
            "[68,     3] val loss: 0.534\n",
            "[69,    12] loss: 0.356\n",
            "[69,     3] val loss: 0.525\n",
            "[70,    12] loss: 0.351\n",
            "[70,     3] val loss: 0.554\n",
            "[71,    12] loss: 0.348\n",
            "[71,     3] val loss: 0.496\n",
            "[72,    12] loss: 0.343\n",
            "[72,     3] val loss: 0.526\n",
            "[73,    12] loss: 0.339\n",
            "[73,     3] val loss: 0.582\n",
            "[74,    12] loss: 0.336\n",
            "[74,     3] val loss: 0.591\n",
            "[75,    12] loss: 0.332\n",
            "[75,     3] val loss: 0.538\n",
            "[76,    12] loss: 0.327\n",
            "[76,     3] val loss: 0.495\n",
            "[77,    12] loss: 0.324\n",
            "[77,     3] val loss: 0.537\n",
            "[78,    12] loss: 0.320\n",
            "[78,     3] val loss: 0.529\n",
            "[79,    12] loss: 0.315\n",
            "[79,     3] val loss: 0.486\n",
            "[80,    12] loss: 0.314\n",
            "[80,     3] val loss: 0.575\n",
            "[81,    12] loss: 0.307\n",
            "[81,     3] val loss: 0.508\n",
            "[82,    12] loss: 0.304\n",
            "[82,     3] val loss: 0.499\n",
            "[83,    12] loss: 0.300\n",
            "[83,     3] val loss: 0.584\n",
            "[84,    12] loss: 0.297\n",
            "[84,     3] val loss: 0.527\n",
            "[85,    12] loss: 0.292\n",
            "[85,     3] val loss: 0.498\n",
            "[86,    12] loss: 0.288\n",
            "[86,     3] val loss: 0.525\n",
            "[87,    12] loss: 0.283\n",
            "[87,     3] val loss: 0.547\n",
            "[88,    12] loss: 0.281\n",
            "[88,     3] val loss: 0.506\n",
            "[89,    12] loss: 0.276\n",
            "[89,     3] val loss: 0.540\n",
            "[90,    12] loss: 0.273\n",
            "[90,     3] val loss: 0.546\n",
            "[91,    12] loss: 0.269\n",
            "[91,     3] val loss: 0.524\n",
            "[92,    12] loss: 0.267\n",
            "[92,     3] val loss: 0.527\n",
            "[93,    12] loss: 0.261\n",
            "[93,     3] val loss: 0.526\n",
            "[94,    12] loss: 0.261\n",
            "[94,     3] val loss: 0.577\n",
            "[95,    12] loss: 0.256\n",
            "[95,     3] val loss: 0.560\n",
            "[96,    12] loss: 0.253\n",
            "[96,     3] val loss: 0.491\n",
            "[97,    12] loss: 0.246\n",
            "[97,     3] val loss: 0.537\n",
            "[98,    12] loss: 0.244\n",
            "[98,     3] val loss: 0.567\n",
            "[99,    12] loss: 0.242\n",
            "[99,     3] val loss: 0.478\n",
            "[100,    12] loss: 0.238\n",
            "[100,     3] val loss: 0.499\n",
            "[101,    12] loss: 0.235\n",
            "[101,     3] val loss: 0.552\n",
            "[102,    12] loss: 0.233\n",
            "[102,     3] val loss: 0.490\n",
            "[103,    12] loss: 0.230\n",
            "[103,     3] val loss: 0.574\n",
            "[104,    12] loss: 0.225\n",
            "[104,     3] val loss: 0.528\n",
            "[105,    12] loss: 0.222\n",
            "[105,     3] val loss: 0.543\n",
            "[106,    12] loss: 0.220\n",
            "[106,     3] val loss: 0.518\n",
            "[107,    12] loss: 0.218\n",
            "[107,     3] val loss: 0.520\n",
            "[108,    12] loss: 0.214\n",
            "[108,     3] val loss: 0.592\n",
            "[109,    12] loss: 0.211\n",
            "[109,     3] val loss: 0.544\n",
            "[110,    12] loss: 0.207\n",
            "[110,     3] val loss: 0.539\n",
            "[111,    12] loss: 0.206\n",
            "[111,     3] val loss: 0.534\n",
            "[112,    12] loss: 0.202\n",
            "[112,     3] val loss: 0.563\n",
            "[113,    12] loss: 0.198\n",
            "[113,     3] val loss: 0.532\n",
            "[114,    12] loss: 0.197\n",
            "[114,     3] val loss: 0.571\n",
            "[115,    12] loss: 0.195\n",
            "[115,     3] val loss: 0.578\n",
            "[116,    12] loss: 0.191\n",
            "[116,     3] val loss: 0.536\n",
            "[117,    12] loss: 0.190\n",
            "[117,     3] val loss: 0.559\n",
            "[118,    12] loss: 0.186\n",
            "[118,     3] val loss: 0.526\n",
            "[119,    12] loss: 0.183\n",
            "[119,     3] val loss: 0.487\n",
            "[120,    12] loss: 0.181\n",
            "[120,     3] val loss: 0.547\n",
            "[121,    12] loss: 0.180\n",
            "[121,     3] val loss: 0.564\n",
            "[122,    12] loss: 0.175\n",
            "[122,     3] val loss: 0.518\n",
            "[123,    12] loss: 0.175\n",
            "[123,     3] val loss: 0.502\n",
            "[124,    12] loss: 0.170\n",
            "[124,     3] val loss: 0.487\n",
            "[125,    12] loss: 0.168\n",
            "[125,     3] val loss: 0.492\n",
            "[126,    12] loss: 0.166\n",
            "[126,     3] val loss: 0.511\n",
            "[127,    12] loss: 0.164\n",
            "[127,     3] val loss: 0.526\n",
            "[128,    12] loss: 0.162\n",
            "[128,     3] val loss: 0.489\n",
            "[129,    12] loss: 0.158\n",
            "[129,     3] val loss: 0.566\n",
            "[130,    12] loss: 0.156\n",
            "[130,     3] val loss: 0.543\n",
            "[131,    12] loss: 0.154\n",
            "[131,     3] val loss: 0.595\n",
            "[132,    12] loss: 0.153\n",
            "[132,     3] val loss: 0.508\n",
            "[133,    12] loss: 0.150\n",
            "[133,     3] val loss: 0.569\n",
            "[134,    12] loss: 0.147\n",
            "[134,     3] val loss: 0.513\n",
            "[135,    12] loss: 0.145\n",
            "[135,     3] val loss: 0.540\n",
            "[136,    12] loss: 0.144\n",
            "[136,     3] val loss: 0.501\n",
            "[137,    12] loss: 0.141\n",
            "[137,     3] val loss: 0.541\n",
            "[138,    12] loss: 0.139\n",
            "[138,     3] val loss: 0.545\n",
            "[139,    12] loss: 0.136\n",
            "[139,     3] val loss: 0.498\n",
            "[140,    12] loss: 0.135\n",
            "[140,     3] val loss: 0.492\n",
            "[141,    12] loss: 0.135\n",
            "[141,     3] val loss: 0.530\n",
            "[142,    12] loss: 0.131\n",
            "[142,     3] val loss: 0.544\n",
            "[143,    12] loss: 0.129\n",
            "[143,     3] val loss: 0.588\n",
            "[144,    12] loss: 0.129\n",
            "[144,     3] val loss: 0.576\n",
            "[145,    12] loss: 0.127\n",
            "[145,     3] val loss: 0.590\n",
            "[146,    12] loss: 0.124\n",
            "[146,     3] val loss: 0.586\n",
            "[147,    12] loss: 0.122\n",
            "[147,     3] val loss: 0.527\n",
            "[148,    12] loss: 0.121\n",
            "[148,     3] val loss: 0.559\n",
            "[149,    12] loss: 0.120\n",
            "[149,     3] val loss: 0.579\n",
            "[150,    12] loss: 0.117\n",
            "[150,     3] val loss: 0.548\n",
            "[151,    12] loss: 0.116\n",
            "[151,     3] val loss: 0.547\n",
            "[152,    12] loss: 0.113\n",
            "[152,     3] val loss: 0.609\n",
            "[153,    12] loss: 0.112\n",
            "[153,     3] val loss: 0.655\n",
            "[154,    12] loss: 0.110\n",
            "[154,     3] val loss: 0.533\n",
            "[155,    12] loss: 0.108\n",
            "[155,     3] val loss: 0.493\n",
            "[156,    12] loss: 0.108\n",
            "[156,     3] val loss: 0.556\n",
            "[157,    12] loss: 0.106\n",
            "[157,     3] val loss: 0.647\n",
            "[158,    12] loss: 0.105\n",
            "[158,     3] val loss: 0.603\n",
            "[159,    12] loss: 0.105\n",
            "[159,     3] val loss: 0.560\n",
            "[160,    12] loss: 0.103\n",
            "[160,     3] val loss: 0.530\n",
            "[161,    12] loss: 0.100\n",
            "[161,     3] val loss: 0.516\n",
            "[162,    12] loss: 0.099\n",
            "[162,     3] val loss: 0.609\n",
            "[163,    12] loss: 0.098\n",
            "[163,     3] val loss: 0.558\n",
            "[164,    12] loss: 0.096\n",
            "[164,     3] val loss: 0.635\n",
            "[165,    12] loss: 0.095\n",
            "[165,     3] val loss: 0.604\n",
            "[166,    12] loss: 0.092\n",
            "[166,     3] val loss: 0.517\n",
            "[167,    12] loss: 0.092\n",
            "[167,     3] val loss: 0.653\n",
            "[168,    12] loss: 0.091\n",
            "[168,     3] val loss: 0.619\n",
            "[169,    12] loss: 0.090\n",
            "[169,     3] val loss: 0.611\n",
            "[170,    12] loss: 0.089\n",
            "[170,     3] val loss: 0.600\n",
            "[171,    12] loss: 0.087\n",
            "[171,     3] val loss: 0.538\n",
            "[172,    12] loss: 0.086\n",
            "[172,     3] val loss: 0.622\n",
            "[173,    12] loss: 0.084\n",
            "[173,     3] val loss: 0.546\n",
            "[174,    12] loss: 0.084\n",
            "[174,     3] val loss: 0.605\n",
            "[175,    12] loss: 0.082\n",
            "[175,     3] val loss: 0.747\n",
            "[176,    12] loss: 0.081\n",
            "[176,     3] val loss: 0.578\n",
            "[177,    12] loss: 0.080\n",
            "[177,     3] val loss: 0.633\n",
            "[178,    12] loss: 0.079\n",
            "[178,     3] val loss: 0.584\n",
            "[179,    12] loss: 0.078\n",
            "[179,     3] val loss: 0.574\n",
            "[180,    12] loss: 0.077\n",
            "[180,     3] val loss: 0.615\n",
            "[181,    12] loss: 0.076\n",
            "[181,     3] val loss: 0.634\n",
            "[182,    12] loss: 0.075\n",
            "[182,     3] val loss: 0.536\n",
            "[183,    12] loss: 0.074\n",
            "[183,     3] val loss: 0.613\n",
            "[184,    12] loss: 0.073\n",
            "[184,     3] val loss: 0.656\n",
            "[185,    12] loss: 0.071\n",
            "[185,     3] val loss: 0.563\n",
            "[186,    12] loss: 0.071\n",
            "[186,     3] val loss: 0.582\n",
            "[187,    12] loss: 0.070\n",
            "[187,     3] val loss: 0.629\n",
            "[188,    12] loss: 0.069\n",
            "[188,     3] val loss: 0.713\n",
            "[189,    12] loss: 0.068\n",
            "[189,     3] val loss: 0.645\n",
            "[190,    12] loss: 0.067\n",
            "[190,     3] val loss: 0.673\n",
            "[191,    12] loss: 0.066\n",
            "[191,     3] val loss: 0.573\n",
            "[192,    12] loss: 0.066\n",
            "[192,     3] val loss: 0.617\n",
            "[193,    12] loss: 0.065\n",
            "[193,     3] val loss: 0.619\n",
            "[194,    12] loss: 0.064\n",
            "[194,     3] val loss: 0.612\n",
            "[195,    12] loss: 0.063\n",
            "[195,     3] val loss: 0.621\n",
            "[196,    12] loss: 0.062\n",
            "[196,     3] val loss: 0.599\n",
            "[197,    12] loss: 0.061\n",
            "[197,     3] val loss: 0.632\n",
            "[198,    12] loss: 0.061\n",
            "[198,     3] val loss: 0.593\n",
            "[199,    12] loss: 0.060\n",
            "[199,     3] val loss: 0.572\n",
            "[200,    12] loss: 0.059\n",
            "[200,     3] val loss: 0.639\n",
            "[201,    12] loss: 0.059\n",
            "[201,     3] val loss: 0.621\n",
            "[202,    12] loss: 0.058\n",
            "[202,     3] val loss: 0.633\n",
            "[203,    12] loss: 0.057\n",
            "[203,     3] val loss: 0.640\n",
            "[204,    12] loss: 0.056\n",
            "[204,     3] val loss: 0.710\n",
            "[205,    12] loss: 0.056\n",
            "[205,     3] val loss: 0.579\n",
            "[206,    12] loss: 0.054\n",
            "[206,     3] val loss: 0.668\n",
            "[207,    12] loss: 0.054\n",
            "[207,     3] val loss: 0.682\n",
            "[208,    12] loss: 0.054\n",
            "[208,     3] val loss: 0.643\n",
            "[209,    12] loss: 0.052\n",
            "[209,     3] val loss: 0.669\n",
            "[210,    12] loss: 0.052\n",
            "[210,     3] val loss: 0.896\n",
            "[211,    12] loss: 0.052\n",
            "[211,     3] val loss: 0.598\n",
            "[212,    12] loss: 0.051\n",
            "[212,     3] val loss: 0.698\n",
            "[213,    12] loss: 0.051\n",
            "[213,     3] val loss: 0.799\n",
            "[214,    12] loss: 0.050\n",
            "[214,     3] val loss: 0.631\n",
            "[215,    12] loss: 0.050\n",
            "[215,     3] val loss: 0.630\n",
            "[216,    12] loss: 0.049\n",
            "[216,     3] val loss: 0.628\n",
            "[217,    12] loss: 0.048\n",
            "[217,     3] val loss: 0.664\n",
            "[218,    12] loss: 0.048\n",
            "[218,     3] val loss: 0.675\n",
            "[219,    12] loss: 0.047\n",
            "[219,     3] val loss: 0.647\n",
            "[220,    12] loss: 0.047\n",
            "[220,     3] val loss: 0.719\n",
            "[221,    12] loss: 0.046\n",
            "[221,     3] val loss: 0.624\n",
            "[222,    12] loss: 0.046\n",
            "[222,     3] val loss: 0.768\n",
            "[223,    12] loss: 0.045\n",
            "[223,     3] val loss: 0.595\n",
            "[224,    12] loss: 0.045\n",
            "[224,     3] val loss: 0.600\n",
            "[225,    12] loss: 0.044\n",
            "[225,     3] val loss: 0.680\n",
            "[226,    12] loss: 0.044\n",
            "[226,     3] val loss: 0.580\n",
            "[227,    12] loss: 0.043\n",
            "[227,     3] val loss: 0.573\n",
            "[228,    12] loss: 0.043\n",
            "[228,     3] val loss: 0.597\n",
            "[229,    12] loss: 0.042\n",
            "[229,     3] val loss: 0.651\n",
            "[230,    12] loss: 0.041\n",
            "[230,     3] val loss: 0.707\n",
            "[231,    12] loss: 0.041\n",
            "[231,     3] val loss: 0.649\n",
            "[232,    12] loss: 0.040\n",
            "[232,     3] val loss: 0.682\n",
            "[233,    12] loss: 0.040\n",
            "[233,     3] val loss: 0.687\n",
            "[234,    12] loss: 0.040\n",
            "[234,     3] val loss: 0.685\n",
            "[235,    12] loss: 0.039\n",
            "[235,     3] val loss: 0.732\n",
            "[236,    12] loss: 0.039\n",
            "[236,     3] val loss: 0.705\n",
            "[237,    12] loss: 0.038\n",
            "[237,     3] val loss: 0.702\n",
            "[238,    12] loss: 0.038\n",
            "[238,     3] val loss: 0.652\n",
            "[239,    12] loss: 0.038\n",
            "[239,     3] val loss: 0.633\n",
            "[240,    12] loss: 0.037\n",
            "[240,     3] val loss: 0.705\n",
            "[241,    12] loss: 0.037\n",
            "[241,     3] val loss: 0.677\n",
            "[242,    12] loss: 0.036\n",
            "[242,     3] val loss: 0.594\n",
            "[243,    12] loss: 0.036\n",
            "[243,     3] val loss: 0.676\n",
            "[244,    12] loss: 0.035\n",
            "[244,     3] val loss: 0.591\n",
            "[245,    12] loss: 0.035\n",
            "[245,     3] val loss: 0.665\n",
            "[246,    12] loss: 0.035\n",
            "[246,     3] val loss: 0.636\n",
            "[247,    12] loss: 0.034\n",
            "[247,     3] val loss: 0.666\n",
            "[248,    12] loss: 0.034\n",
            "[248,     3] val loss: 0.739\n",
            "[249,    12] loss: 0.034\n",
            "[249,     3] val loss: 0.632\n",
            "[250,    12] loss: 0.033\n",
            "[250,     3] val loss: 0.650\n",
            "Обучение закончено\n"
          ]
        }
      ]
    },
    {
      "cell_type": "markdown",
      "source": [
        "Проверка качества модели по классам на обучающей и тестовой выборках"
      ],
      "metadata": {
        "id": "gGpDsgLE3Tz6"
      }
    },
    {
      "cell_type": "code",
      "source": [
        "for part in ['train', 'test']:\n",
        "    y_pred = []\n",
        "    y_true = []\n",
        "    with torch.no_grad(): # отключение автоматического дифференцирования\n",
        "        for i, data in enumerate(dataloader[part], 0):\n",
        "            inputs, labels = data\n",
        "\n",
        "            outputs = model(inputs).detach().numpy()\n",
        "            y_pred.append(outputs)\n",
        "            y_true.append(labels.numpy())\n",
        "        y_true = np.concatenate(y_true)\n",
        "        y_pred = np.concatenate(y_pred)\n",
        "        print(part)\n",
        "        print(classification_report(y_true.argmax(axis=-1), y_pred.argmax(axis=-1),\n",
        "                                    digits=4, target_names=list(map(str, CLASSES))))\n",
        "        print('-'*50)"
      ],
      "metadata": {
        "colab": {
          "base_uri": "https://localhost:8080/"
        },
        "id": "cAhgcBjt3Uhz",
        "outputId": "0cd05181-865c-48c8-e768-9b2fb238f68e"
      },
      "execution_count": null,
      "outputs": [
        {
          "output_type": "stream",
          "name": "stdout",
          "text": [
            "train\n",
            "              precision    recall  f1-score   support\n",
            "\n",
            "           5     0.9901    1.0000    0.9950       500\n",
            "          18     0.9980    0.9920    0.9950       500\n",
            "          43     1.0000    0.9960    0.9980       500\n",
            "\n",
            "    accuracy                         0.9960      1500\n",
            "   macro avg     0.9960    0.9960    0.9960      1500\n",
            "weighted avg     0.9960    0.9960    0.9960      1500\n",
            "\n",
            "--------------------------------------------------\n",
            "test\n",
            "              precision    recall  f1-score   support\n",
            "\n",
            "           5     0.8400    0.8400    0.8400       100\n",
            "          18     0.8542    0.8200    0.8367       100\n",
            "          43     0.8269    0.8600    0.8431       100\n",
            "\n",
            "    accuracy                         0.8400       300\n",
            "   macro avg     0.8404    0.8400    0.8400       300\n",
            "weighted avg     0.8404    0.8400    0.8400       300\n",
            "\n",
            "--------------------------------------------------\n"
          ]
        }
      ]
    }
  ]
}